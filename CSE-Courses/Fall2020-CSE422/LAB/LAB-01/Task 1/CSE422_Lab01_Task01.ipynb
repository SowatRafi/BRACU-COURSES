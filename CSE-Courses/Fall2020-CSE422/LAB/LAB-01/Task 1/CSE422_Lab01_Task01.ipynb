{
 "nbformat": 4,
 "nbformat_minor": 0,
 "metadata": {
  "colab": {
   "name": "CSE422_Lab01_Task01.ipynb",
   "provenance": []
  },
  "kernelspec": {
   "name": "pycharm-2c98b8cb",
   "language": "python",
   "display_name": "PyCharm (LAB-01)"
  }
 },
 "cells": [
  {
   "cell_type": "markdown",
   "metadata": {
    "id": "KfTn__u9hOcp"
   },
   "source": [
    "## Sowat Hossain Rafi\n",
    "# 18101140\n",
    "## **Task 01**"
   ]
  },
  {
   "cell_type": "code",
   "metadata": {
    "id": "IjciaqTYj_UE"
   },
   "source": [
    "input = open('input_Task1.txt','r')\n",
    "lines = input.readlines() # Read lines\n",
    "num_of_nodes = int(lines.pop(0)) # Number of Nodes"
   ],
   "execution_count": 29,
   "outputs": []
  },
  {
   "cell_type": "code",
   "metadata": {
    "id": "NfkLOvpljoBB"
   },
   "source": [
    "import numpy as np\n",
    "adj_mtx = np.zeros((num_of_nodes, num_of_nodes), dtype=int)\n",
    "# Adjacency Matrix"
   ],
   "execution_count": 30,
   "outputs": []
  },
  {
   "cell_type": "code",
   "metadata": {
    "id": "qeQc-cyxlKCl"
   },
   "source": [
    "num_of_edge = int(lines.pop(0)) #number of edge\n",
    "goal_node = int(lines.pop(num_of_edge))"
   ],
   "execution_count": 31,
   "outputs": []
  },
  {
   "cell_type": "code",
   "metadata": {
    "id": "Yjj_R47Mlpgl"
   },
   "source": [
    "for line in lines:\n",
    "  line = line.strip()\n",
    "  node = line.split(' ') #split all node\n",
    "  adj_mtx[int(node[0]),int(node[1])] = 1\n",
    "  adj_mtx[int(node[1]),int(node[0])] = 1\n",
    "# Adjacency Matrix"
   ],
   "execution_count": 32,
   "outputs": []
  },
  {
   "cell_type": "code",
   "metadata": {
    "id": "wMbrmEZSl8mD"
   },
   "source": [
    "# Adjacency (Matrix to List) conversion\n",
    "from collections import defaultdict\n",
    "def convert(a_m):\n",
    "    adjList = defaultdict(list) \n",
    "    for i in range(len(a_m)):\n",
    "        for j in range(len(a_m[i])):\n",
    "                       if a_m[i][j]== 1:\n",
    "                           adjList[i].append(j) \n",
    "    return adjList\n",
    "\n",
    "adj_List = convert(adj_mtx) #method call"
   ],
   "execution_count": 33,
   "outputs": []
  },
  {
   "cell_type": "code",
   "metadata": {
    "id": "okSKveYbqR4M"
   },
   "source": [
    "from queue import Queue\n",
    "\n",
    "visited = {} #visited\n",
    "lvl = {} #level\n",
    "prnt = {} #parent\n",
    "bfs_out = [] #bfs output\n",
    "queue = Queue()\n",
    "\n",
    "for node in adj_List.keys():\n",
    "  visited[node] = False\n",
    "  prnt[node] = None\n",
    "  lvl[node] = -1\n",
    "\n",
    "s = 0\n",
    "visited[s] = True\n",
    "lvl[s] = 0\n",
    "queue.put(s)\n",
    "\n",
    "while not queue.empty():\n",
    "  u = queue.get()\n",
    "  bfs_out.append(u)\n",
    "\n",
    "  for v in adj_List[u]:\n",
    "    if not visited[v]:\n",
    "      visited[v] = True\n",
    "      prnt[v] = u\n",
    "      lvl[v] = lvl[u]+1\n",
    "      queue.put(v)"
   ],
   "execution_count": 34,
   "outputs": []
  },
  {
   "cell_type": "code",
   "metadata": {
    "id": "NBYisv9SraUv",
    "outputId": "9ffb0749-ac4b-491d-857a-56b2c2aa271b",
    "colab": {
     "base_uri": "https://localhost:8080/"
    }
   },
   "source": [
    "print(\"Minimum number of moves Nora needs:\",lvl[goal_node])"
   ],
   "execution_count": 35,
   "outputs": [
    {
     "name": "stdout",
     "output_type": "stream",
     "text": [
      "Minimum number of moves Nora needs: 2\n"
     ]
    }
   ]
  }
 ]
}