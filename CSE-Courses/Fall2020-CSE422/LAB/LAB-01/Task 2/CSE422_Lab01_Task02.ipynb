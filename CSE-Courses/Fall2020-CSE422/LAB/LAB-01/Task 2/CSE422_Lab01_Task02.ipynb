{
 "nbformat": 4,
 "nbformat_minor": 0,
 "metadata": {
  "colab": {
   "name": "CSE422_Lab01_Task02.ipynb",
   "provenance": []
  },
  "kernelspec": {
   "name": "pycharm-2c98b8cb",
   "language": "python",
   "display_name": "PyCharm (LAB-01)"
  }
 },
 "cells": [
  {
   "cell_type": "markdown",
   "metadata": {
    "id": "YclTKF4rOT55"
   },
   "source": [
    "## Sowat Hossain Rafi\n",
    "# 18101140\n",
    "## **Task 02**"
   ]
  },
  {
   "cell_type": "code",
   "metadata": {
    "id": "5K2IQy4JOYG1"
   },
   "source": [
    "input = open('input_T2.txt','r')\n",
    "lines = input.readlines() # Read Lines\n",
    "num_of_nodes = int(lines.pop(0)) # Number of Nodes\n",
    "\n",
    "\n",
    "import numpy as np\n",
    "am = np.zeros((num_of_nodes, num_of_nodes), dtype=int)\n",
    "# Adjacency Matrix\n",
    "\n",
    "num_of_edge = int(lines.pop(0)) # Number of Edge\n",
    "xp = int(lines.pop(num_of_edge)) # Lina's Position (Goal Node)\n",
    "pp = int(lines.pop(num_of_edge)) # Nora's Position\n",
    "qp = int(lines.pop(num_of_edge)) # Lara's Position"
   ],
   "execution_count": 19,
   "outputs": []
  },
  {
   "cell_type": "code",
   "metadata": {
    "id": "EVxeT4LCP3FU"
   },
   "source": [
    "for line in lines:\n",
    "  line = line.strip()\n",
    "  node = line.split(' ') # Split all Node\n",
    "  am[int(node[0]),int(node[1])] = 1\n",
    "  am[int(node[1]),int(node[0])] = 1\n",
    "# Adjacency Matrix"
   ],
   "execution_count": 20,
   "outputs": []
  },
  {
   "cell_type": "code",
   "metadata": {
    "id": "e4iiEFg4Uvdb"
   },
   "source": [
    "# Adjacency (Matrix to List) conversion\n",
    "from collections import defaultdict \n",
    "\n",
    "def convert(a_m):\n",
    "    adjList = defaultdict(list) \n",
    "    for i in range(len(a_m)):\n",
    "        for j in range(len(a_m[i])):\n",
    "                       if a_m[i][j] == 1:\n",
    "                           adjList[i].append(j) \n",
    "    return adjList \n",
    "\n",
    "al = convert(am) #method call"
   ],
   "execution_count": 21,
   "outputs": []
  },
  {
   "cell_type": "code",
   "metadata": {
    "id": "cbO7WNPYU0Mg"
   },
   "source": [
    "# BFS Method\n",
    "from queue import Queue\n",
    "def bfs(al, position):\n",
    "  visited = {} # Visited\n",
    "  lvl = {} # Level\n",
    "  prnt = {} # Parent\n",
    "  bfs_out = [] # BFS output\n",
    "  queue = Queue()\n",
    "\n",
    "  for node in al.keys():\n",
    "    visited[node] = False\n",
    "    prnt[node] = None\n",
    "    lvl[node] = -1\n",
    "\n",
    "  s = position\n",
    "  visited[s] = True\n",
    "  lvl[s] = 0\n",
    "  queue.put(s)\n",
    "\n",
    "  while not queue.empty():\n",
    "    u = queue.get()\n",
    "    bfs_out.append(u)\n",
    "\n",
    "    for v in al[u]:\n",
    "      if not visited[v]:\n",
    "        visited[v] = True\n",
    "        prnt[v] = u\n",
    "        lvl[v] = lvl[u]+1\n",
    "        queue.put(v)\n",
    "  return (lvl[xp])"
   ],
   "execution_count": 22,
   "outputs": []
  },
  {
   "cell_type": "code",
   "metadata": {
    "id": "tID1UnvUXpBx"
   },
   "source": [
    "#method call\n",
    "a = bfs(al, qp)\n",
    "b = bfs(al, pp)"
   ],
   "execution_count": 23,
   "outputs": []
  },
  {
   "cell_type": "code",
   "metadata": {
    "id": "OfboRAE1aFwT",
    "outputId": "c305d04e-20c0-442b-d1cb-d3f7b08a1e65",
    "colab": {
     "base_uri": "https://localhost:8080/"
    }
   },
   "source": [
    "# Check level\n",
    "if a<b:\n",
    "  print (\"Lara\")\n",
    "elif b<a:\n",
    "  print (\"Nora\")\n",
    "else:\n",
    "  print (\"Both\")"
   ],
   "execution_count": 24,
   "outputs": [
    {
     "name": "stdout",
     "output_type": "stream",
     "text": [
      "Nora\n"
     ]
    }
   ]
  }
 ]
}