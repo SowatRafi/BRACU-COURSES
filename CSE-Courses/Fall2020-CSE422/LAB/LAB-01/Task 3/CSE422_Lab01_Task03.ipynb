{
 "nbformat": 4,
 "nbformat_minor": 0,
 "metadata": {
  "colab": {
   "name": "CSE422_Lab01_Task03.ipynb",
   "provenance": [],
   "toc_visible": true
  },
  "kernelspec": {
   "name": "pycharm-2c98b8cb",
   "language": "python",
   "display_name": "PyCharm (LAB-01)"
  }
 },
 "cells": [
  {
   "cell_type": "markdown",
   "metadata": {
    "id": "UgZdBInPd2Ht"
   },
   "source": [
    "## Sowat Hossain Rafi\n",
    "# 18101140\n",
    "## **Task 03**"
   ]
  },
  {
   "cell_type": "code",
   "metadata": {
    "id": "PP23eb0Pdkfh"
   },
   "source": [
    "input = open('input_T3.txt','r')\n",
    "lines = input.readlines() # Read Lines\n",
    "num_of_nodes = int(lines.pop(0)) # Number of Nodes\n",
    "\n",
    "import numpy as np\n",
    "am = np.zeros((num_of_nodes, num_of_nodes), dtype=int)\n",
    "\n",
    "num_of_edge = int(lines.pop(0)) # Number of edge\n",
    "xp = int(lines.pop(e)) # Lina's Position (Goal Node)\n",
    "kp = int(lines.pop(e)) # Number of participant"
   ],
   "execution_count": 22,
   "outputs": []
  },
  {
   "cell_type": "code",
   "metadata": {
    "id": "eoN2iIwVeQRD"
   },
   "source": [
    "#Participant Array\n",
    "P = []\n",
    "for i in range(0,kp):\n",
    "  P.append(int(lines.pop(num_of_edge)))"
   ],
   "execution_count": 23,
   "outputs": []
  },
  {
   "cell_type": "code",
   "metadata": {
    "id": "RGHD7aSrfJ9H"
   },
   "source": [
    "for line in lines:\n",
    "  line = line.strip()\n",
    "  node = line.split(' ') # Split all node\n",
    "  am[int(node[1]),int(node[0])] = 1"
   ],
   "execution_count": 24,
   "outputs": []
  },
  {
   "cell_type": "code",
   "metadata": {
    "id": "JnJPdxCqgxF5"
   },
   "source": [
    "# Adjacency (Matrix to List) conversion\n",
    "from collections import defaultdict \n",
    "\n",
    "def convert(am): \n",
    "    al = defaultdict(list) \n",
    "    for i in range(len(am)): \n",
    "        for j in range(len(am[i])): \n",
    "                       if am[i][j]== 1: \n",
    "                           al[i].append(j) \n",
    "    return al\n",
    "\n",
    "al = convert(am) #method call"
   ],
   "execution_count": 25,
   "outputs": []
  },
  {
   "cell_type": "code",
   "metadata": {
    "id": "varCHUgLhNqJ"
   },
   "source": [
    "# BFS method\n",
    "from queue import Queue\n",
    "def bfs(al, position): \n",
    "  visited = {} # visited\n",
    "  lvl = {} # level\n",
    "  prnt = {} # parent\n",
    "  bfs_out = [] # BFS output\n",
    "  queue = Queue()\n",
    "\n",
    "  for node in adj_List.keys():\n",
    "    visited[node] = False\n",
    "    prnt[node] = None\n",
    "    lvl[node] = -1\n",
    "\n",
    "  s = position\n",
    "  visited[s] = True\n",
    "  lvl[s] = 0\n",
    "  queue.put(s)\n",
    "\n",
    "  while not queue.empty():\n",
    "    u = queue.get()\n",
    "    bfs_out.append(u)\n",
    "\n",
    "    for v in al[u]:\n",
    "      if not visited[v]:\n",
    "        visited[v] = True\n",
    "        prnt[v] = u\n",
    "        lvl[v] = lvl[u]+1\n",
    "        queue.put(v)\n",
    "  return (lvl)\n",
    "a = bfs(al, 0)\n"
   ],
   "execution_count": 26,
   "outputs": []
  },
  {
   "cell_type": "code",
   "metadata": {
    "id": "CwwCkrJehTui",
    "outputId": "09cefdd7-f0ab-4be7-ebfb-c09f5a585162",
    "colab": {
     "base_uri": "https://localhost:8080/"
    }
   },
   "source": [
    "b = bfs(al, xp)\n",
    "md = []\n",
    "for i in range(0, kp):\n",
    "  md.append(b[k[i]])\n",
    "print(\"Minimum number of moves the winner:\", min(md))\n"
   ],
   "execution_count": 27,
   "outputs": [
    {
     "output_type": "stream",
     "text": [
      "Minimum number of moves the winner: 2\n"
     ],
     "name": "stdout"
    }
   ]
  }
 ]
}